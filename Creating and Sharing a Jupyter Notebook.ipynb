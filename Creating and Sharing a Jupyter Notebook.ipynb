{
 "cells": [
  {
   "cell_type": "markdown",
   "metadata": {},
   "source": [
    "# My Jupyter Notebook on IBM Watson Studio"
   ]
  },
  {
   "cell_type": "markdown",
   "metadata": {},
   "source": [
    "**Narahari Marneni**\n",
    "<br>I want to be a Data Scientist/Engineer"
   ]
  },
  {
   "cell_type": "markdown",
   "metadata": {},
   "source": [
    "*I am interested in data science because there is lot more information that we can discover from original raw data*"
   ]
  },
  {
   "cell_type": "markdown",
   "metadata": {},
   "source": [
    "### The following code tests the Addition"
   ]
  },
  {
   "cell_type": "code",
   "execution_count": 2,
   "metadata": {},
   "outputs": [
    {
     "data": {
      "text/plain": [
       "8"
      ]
     },
     "execution_count": 2,
     "metadata": {},
     "output_type": "execute_result"
    }
   ],
   "source": [
    "3+5"
   ]
  },
  {
   "cell_type": "markdown",
   "metadata": {},
   "source": [
    "### 1. Horizontal Rule\n",
    "\n",
    "---\n",
    "Addition\n",
    "---\n",
    "Subtraction\n",
    "---\n",
    "Multiplication\n",
    "---\n",
    "Division\n",
    "---"
   ]
  },
  {
   "cell_type": "markdown",
   "metadata": {},
   "source": [
    "### 2. Bulleted list\n",
    "\n",
    "- item 1\n",
    "- item 2\n",
    "- item 3, etc"
   ]
  },
  {
   "cell_type": "markdown",
   "metadata": {},
   "source": [
    "### 3. Table\n",
    "\n",
    "| S.No |   Name   | Age | Gender |\n",
    "|----|--------:|---:|------:|\n",
    "| 1 | Harry | 35 | Male |\n",
    "| 2 | Mary  | 25 | Fmale |\n",
    "| 3 | Sandra| 30 | Fmale |\n",
    "| 4 | Sam   | 30 | Male |\n"
   ]
  },
  {
   "cell_type": "markdown",
   "metadata": {},
   "source": [
    "### 4. Numbered list\n",
    "\n",
    "1. Tools for Data Science<br>\n",
    "    1.1 GitHub<br>\n",
    "    1.2 Jupyter Notebook<br>\n",
    "    1.3 Watson Studio<br>\n",
    "2. Python\n",
    "3. RStudio"
   ]
  },
  {
   "cell_type": "code",
   "execution_count": null,
   "metadata": {},
   "outputs": [],
   "source": []
  }
 ],
 "metadata": {
  "kernelspec": {
   "display_name": "Python 3",
   "language": "python",
   "name": "python3"
  },
  "language_info": {
   "codemirror_mode": {
    "name": "ipython",
    "version": 3
   },
   "file_extension": ".py",
   "mimetype": "text/x-python",
   "name": "python",
   "nbconvert_exporter": "python",
   "pygments_lexer": "ipython3",
   "version": "3.7.10"
  }
 },
 "nbformat": 4,
 "nbformat_minor": 4
}
